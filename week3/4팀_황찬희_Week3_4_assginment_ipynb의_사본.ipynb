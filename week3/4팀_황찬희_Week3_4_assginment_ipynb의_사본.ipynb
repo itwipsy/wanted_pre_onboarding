{
  "cells": [
    {
      "cell_type": "markdown",
      "metadata": {
        "id": "592U6lXs3d2t"
      },
      "source": [
        "# Week3_4 Assignment\n",
        "\n",
        "## [BASIC](#Basic) \n",
        "- Encoder & Decoder Layer 코드를 직접 필사하고 각 함수에 주석을 달 수 있다. \n",
        "\n",
        "## [CHALLENGE](#Challenge)\n",
        "- 텐서의 크기(shape)를 계산할 수 있다. \n",
        "\n",
        "## [ADVANCED](#Advanced)\n",
        "- 완성된 transformer 모델의 모든 학습 가능한 파라미터 이름과 크기(shape)를 출력할 수 있다.\n",
        "\n",
        "### Informs\n",
        "이번 과제에서는 \"[Annotated Transformer](https://nlp.seas.harvard.edu/2018/04/03/attention.html)\"의 코드를 필사해본다.   \n",
        "\"Annotated Transformer\"는 \"Attention is all you need\" 논문에서 제안한 transformer 모델을 pytorch 라이브러리로 직접 구현한다.   \n",
        "코드 필사를 통해 다음을 배울 수 있다.    \n",
        "- Encoder, Decoder 구조\n",
        "- Attention Mechanism\n",
        "- \"residual connection\", \"layer normalization\" 등의 구조 "
      ]
    },
    {
      "cell_type": "markdown",
      "metadata": {
        "id": "GoebvnNZ99r-"
      },
      "source": [
        "코드 필사를 시작하기 앞서, transformer 모델의 최종 구조를 살펴보자.    \n",
        "\n",
        "<img src=\"https://github.com/ChristinaROK/PreOnboarding_AI_assets/blob/36a670a7b6233d5218a495150beb337a899ecb70/week3/week3_3_full.png?raw=true\" width=\"500\" align=\"center\"/>\n",
        "\n",
        "최종 모델은 `EncoderDecoder()` 클래스에 여러 인스턴스를 생성자의 입력 파라미터로 넣어 생성한다.    \n",
        "앞으로 우리는 `EncoderDecoder()` 클래스와 같은 여러 클래스들을 구현하고 연결할 것이다. 따라서 대략적인 클래스간의 관계를 살펴보고 이해한다면 보다 큰 그림을 가지고 코드 필사를 할 수 있을 것이다. "
      ]
    },
    {
      "cell_type": "markdown",
      "metadata": {
        "id": "DB6cNaXP99sB"
      },
      "source": [
        "Transformer 모델은 크게 4가지 클래스로 구현된다.    \n",
        "- Frame\n",
        "    - frame 역할을 하는 `EncoderDecoder` 클래스\n",
        "- Input Embedding & Encoding\n",
        "    - 입력값을 벡터화하는 `Embeddings`, `PositionalEncoding`\n",
        "- Encoder & Decoder\n",
        "    - 각 6개 layer를 갖고 있는 `Encoder`, `Decoder`\n",
        "    - layer 1층을 구현한 `EncoderLayer`, `DecoderLayer`\n",
        "- Sublayer\n",
        "    - `EncoderLayer`, `DecoderLayer` 내부에서 사용되는 Sublayer 클래스인 `MultiHeadAttiontion`, `PositionwiseFeedForward`\n",
        "    - Sublayer 클래스들을 연결하는 `SublayerConnection`\n",
        "    \n",
        "아래 좌측 도식에서 각 클래스의 색상은 아래 우측 도식(transformer 구조)의 색상과 맵핑되어 있다.    \n",
        "각 클래스의 역할과 클래스 간 연결 관계를 생각하면서 transformer를 코드로 구현해보자.   \n",
        "\n",
        "\n",
        "<img src=\"https://github.com/ChristinaROK/PreOnboarding_AI_assets/blob/36a670a7b6233d5218a495150beb337a899ecb70/week3/week3_3_map.png?raw=true\" width=\"400\" height=\"400\" align=\"left\"/>\n",
        "<img src=\"https://github.com/ChristinaROK/PreOnboarding_AI_assets/blob/36a670a7b6233d5218a495150beb337a899ecb70/week3/week3_3_transformer.png?raw=true\" width=\"300\" height=\"400\" align=\"right\"/>\n",
        "\n"
      ]
    },
    {
      "cell_type": "code",
      "execution_count": 49,
      "metadata": {
        "id": "qaadVYo799sE"
      },
      "outputs": [],
      "source": [
        "import os\n",
        "import sys\n",
        "import pandas as pd\n",
        "import numpy as np \n",
        "\n",
        "import torch\n",
        "import torch.nn as nn\n",
        "import torch.nn.functional as F\n",
        "from torch.autograd import Variable\n",
        "\n",
        "import math, copy, time\n",
        "import random"
      ]
    },
    {
      "cell_type": "markdown",
      "metadata": {
        "id": "1OEO0al299sJ"
      },
      "source": [
        "## Basic"
      ]
    },
    {
      "cell_type": "markdown",
      "metadata": {
        "id": "OKKyKfqB99sL"
      },
      "source": [
        "### Frame\n",
        "- `EncoderDecoder`\n",
        "\n",
        "아래 도식은 `EncoderDecoder` 클래스의 `forward()`, `encode()`, `decode()` 메소드를 도식화 한 것이다.    \n",
        " \n",
        "<img src=\"https://github.com/ChristinaROK/PreOnboarding_AI_assets/blob/36a670a7b6233d5218a495150beb337a899ecb70/week3/week3_3_encoderdecoder.png?raw=true\" width=500>\n",
        "\n",
        "\n",
        "- `Generator`"
      ]
    },
    {
      "cell_type": "code",
      "execution_count": 50,
      "metadata": {
        "id": "MECCTGpt99sP"
      },
      "outputs": [],
      "source": [
        "class EncoderDecoder(nn.Module):\n",
        "    \n",
        "    def __init__(self, encoder, decoder, src_embed, tgt_embed, generator):\n",
        "        super(EncoderDecoder, self).__init__()\n",
        "        self.encoder = encoder\n",
        "        self.decoder = decoder\n",
        "        self.src_embed = src_embed\n",
        "        self.tgt_embed = tgt_embed\n",
        "        self.generator = generator        \n",
        "\n",
        "    \n",
        "    \n",
        "    def forward(self, src, tgt, src_mask, tgt_mask):\n",
        "        \"Take in and process masked src and target sequences.\"\n",
        "        return self.decode(self.encode(src, src_mask), src_mask,tgt, tgt_mask)        \n",
        "      \n",
        "    \n",
        "    \n",
        "    def encode(self, src, src_mask):\n",
        "        return self.encoder(self.src_embed(src), src_mask)        \n",
        " \n",
        "    \n",
        "    def decode(self, memory, src_mask, tgt, tgt_mask):\n",
        "        return self.decoder(self.tgt_embed(tgt), memory, src_mask, tgt_mask)"
      ]
    },
    {
      "cell_type": "code",
      "execution_count": 51,
      "metadata": {
        "id": "Py2wcYPX99sT"
      },
      "outputs": [],
      "source": [
        "class Generator(nn.Module):\n",
        "    \n",
        "    def __init__(self, d_model, vocab):\n",
        "        super(Generator, self).__init__()\n",
        "        self.proj = nn.Linear(d_model, vocab)\n",
        "    \n",
        "    \n",
        "    def forward(self, x):\n",
        "        return F.log_softmax(self.proj(x), dim=-1)"
      ]
    },
    {
      "cell_type": "markdown",
      "metadata": {
        "id": "xI-5SRHD99sX"
      },
      "source": [
        "### Encoder\n",
        "- `Encoder`\n",
        "- `EncoderLayer`\n",
        "- `SublayerConnection`\n",
        "- Reference\n",
        "    - Layer Normalization\n",
        "        - [한국어 설명](https://yonghyuc.wordpress.com/2020/03/04/batch-norm-vs-layer-norm/)\n",
        "        - [torch official docs](https://pytorch.org/docs/stable/generated/torch.nn.LayerNorm.html)\n",
        "    - Residual Connection\n",
        "        - [한국어 설명](https://itrepo.tistory.com/36)\n",
        "    - pytorch ModuleList\n",
        "        - [torch official docs](https://pytorch.org/docs/1.9.1/generated/torch.nn.ModuleList.html)\n"
      ]
    },
    {
      "cell_type": "code",
      "execution_count": 52,
      "metadata": {
        "id": "DjIjUBjN99sc"
      },
      "outputs": [],
      "source": [
        "def clones(module, N):\n",
        "    \"Produce N identical layers.\"\n",
        "    return nn.ModuleList([copy.deepcopy(module) for _ in range(N)])"
      ]
    },
    {
      "cell_type": "code",
      "execution_count": 53,
      "metadata": {
        "id": "wgglBAyM99se"
      },
      "outputs": [],
      "source": [
        "class Encoder(nn.Module):\n",
        "    def __init__(self, layer, N):\n",
        "        super(Encoder, self).__init__()\n",
        "        self.layers = clones(layer, N)\n",
        "        self.norm = LayerNorm(layer.size)\n",
        "    \n",
        "    \n",
        "    def forward(self, x, mask):\n",
        "        \"Pass the input (and mask) through each layer in turn.\"\n",
        "        for layer in self.layers:\n",
        "            x = layer(x, mask)\n",
        "        return self.norm(x)"
      ]
    },
    {
      "cell_type": "code",
      "execution_count": 54,
      "metadata": {
        "id": "AvGP8Gsd99sg"
      },
      "outputs": [],
      "source": [
        "class LayerNorm(nn.Module):\n",
        "\n",
        "    \"Construct a layernorm module (See citation for details).\"\n",
        "    def __init__(self, features, eps=1e-6):\n",
        "\n",
        "        super(LayerNorm, self).__init__()\n",
        "        self.a_2 = nn.Parameter(torch.ones(features))\n",
        "        self.b_2 = nn.Parameter(torch.zeros(features))\n",
        "        self.eps = eps\n",
        "    \n",
        "    \n",
        "    def forward(self, x):\n",
        "        mean = x.mean(-1, keepdim=True)\n",
        "        std = x.std(-1, keepdim=True)\n",
        "        return self.a_2 * (x - mean) / (std + self.eps) + self.b_2"
      ]
    },
    {
      "cell_type": "code",
      "execution_count": 55,
      "metadata": {
        "id": "525_O3YE99si"
      },
      "outputs": [],
      "source": [
        "class SublayerConnection(nn.Module):\n",
        "    \"\"\"\n",
        "    A residual connection followed by a layer norm.\n",
        "    Note for code simplicity the norm is first as opposed to last.\n",
        "    \"\"\"    \n",
        "    def __init__(self, size, dropout):\n",
        "        super(SublayerConnection, self).__init__()\n",
        "        self.norm = LayerNorm(size)\n",
        "        self.dropout = nn.Dropout(dropout)\n",
        "    \n",
        "    def forward(self, x, sublayer):\n",
        "        \"Apply residual connection to any sublayer with the same size.\"\n",
        "        return x + self.dropout(sublayer(self.norm(x)))"
      ]
    },
    {
      "cell_type": "code",
      "execution_count": 56,
      "metadata": {
        "id": "LlGCPEVp99sk"
      },
      "outputs": [],
      "source": [
        "class EncoderLayer(nn.Module):\n",
        "    \n",
        "\n",
        "    \"Encoder is made up of self-attn and feed forward (defined below)\"\n",
        "    def __init__(self, size, self_attn, feed_forward, dropout):\n",
        "        super(EncoderLayer, self).__init__()\n",
        "        self.self_attn = self_attn\n",
        "        self.feed_forward = feed_forward\n",
        "        self.sublayer = clones(SublayerConnection(size, dropout), 2)\n",
        "        self.size = size\n",
        "        \n",
        "    def forward(self, x, mask):\n",
        "        \"Follow Figure 1 (left) for connections.\"\n",
        "        x = self.sublayer[0](x, lambda x: self.self_attn(x, x, x, mask))\n",
        "        return self.sublayer[1](x, self.feed_forward)"
      ]
    },
    {
      "cell_type": "markdown",
      "metadata": {
        "id": "OOiYmYWc99sm"
      },
      "source": [
        "### Decoder\n",
        "- `Decoder`\n",
        "- `DecoderLayer`"
      ]
    },
    {
      "cell_type": "code",
      "execution_count": 57,
      "metadata": {
        "id": "Ik47frFO99so"
      },
      "outputs": [],
      "source": [
        "class Decoder(nn.Module):\n",
        "    \"Generic N layer decoder with masking.\"    \n",
        "    def __init__(self, layer, N):\n",
        "        super(Decoder, self).__init__()\n",
        "        self.layers = clones(layer, N)\n",
        "        self.norm = LayerNorm(layer.size)\n",
        "    \n",
        "    def forward(self, x, memory, src_mask, tgt_mask):\n",
        "        for layer in self.layers:\n",
        "            x = layer(x, memory, src_mask, tgt_mask)\n",
        "        return self.norm(x)"
      ]
    },
    {
      "cell_type": "code",
      "execution_count": 58,
      "metadata": {
        "id": "ElsG9P7M99sq"
      },
      "outputs": [],
      "source": [
        "class DecoderLayer(nn.Module):\n",
        "    \"Decoder is made of self-attn, src-attn, and feed forward (defined below)\"\n",
        "    def __init__(self, size, self_attn, src_attn, feed_forward, dropout):\n",
        "        super(DecoderLayer, self).__init__()\n",
        "        self.size = size\n",
        "        self.self_attn = self_attn\n",
        "        self.src_attn = src_attn\n",
        "        self.feed_forward = feed_forward\n",
        "        self.sublayer = clones(SublayerConnection(size, dropout), 3)\n",
        "    \n",
        "    \n",
        "    def forward(self, x, memory, src_mask, tgt_mask):\n",
        "        \"Follow Figure 1 (right) for connections.\"\n",
        "        m = memory\n",
        "        x = self.sublayer[0](x, lambda x: self.self_attn(x, x, x, tgt_mask))\n",
        "        x = self.sublayer[1](x, lambda x: self.src_attn(x, m, m, src_mask))\n",
        "        return self.sublayer[2](x, self.feed_forward)"
      ]
    },
    {
      "cell_type": "markdown",
      "metadata": {
        "id": "vhPP8LVw99sr"
      },
      "source": [
        "### Sublayer\n",
        "- `attention` 함수\n",
        "\n",
        "<img src=\"https://github.com/ChristinaROK/PreOnboarding_AI_assets/blob/36a670a7b6233d5218a495150beb337a899ecb70/week3/week3_3_attention.png?raw=true\" width=\"500\" align=\"center\"/>  \n",
        "\n",
        "- `MultiHeadedAttention`\n",
        "- `PositionwiseFeedForward`"
      ]
    },
    {
      "cell_type": "markdown",
      "metadata": {
        "id": "7o1-iOBu99ss"
      },
      "source": [
        "### Challenge\n"
      ]
    },
    {
      "cell_type": "markdown",
      "metadata": {
        "id": "V0ochH0n99st"
      },
      "source": [
        "### Q1. 위 도식에 따라 `score`, `p_attn`, `attention` 을 구하라 "
      ]
    },
    {
      "cell_type": "code",
      "execution_count": 59,
      "metadata": {
        "id": "ZMYcy8h499sv"
      },
      "outputs": [],
      "source": [
        "def attention(query, key, value, mask=None, dropout=None):\n",
        "    \"Compute 'Scaled Dot Product Attention'\"\n",
        "    d_k = query.size(-1)\n",
        "    scores = torch.matmul(query, key.transpose(-2, -1)) \\\n",
        "             / math.sqrt(d_k)\n",
        "    if mask is not None:\n",
        "        scores = scores.masked_fill(mask == 0, -1e9)\n",
        "    p_attn = F.softmax(scores, dim = -1)\n",
        "    if dropout is not None:\n",
        "        p_attn = dropout(p_attn)\n",
        "    return torch.matmul(p_attn, value), p_attn"
      ]
    },
    {
      "cell_type": "markdown",
      "metadata": {
        "id": "x25aeigL99sw"
      },
      "source": [
        "###Q2. query, key, value가 모두 (m, d_k) shape의 matrix라고 가정할 때, `score`, `p_attn`, `attention`의 shape을 각각 구하라\n",
        "- score : (m, m)\n",
        "- p_attn : (m, m)\n",
        "- attention : (m, d_k)"
      ]
    },
    {
      "cell_type": "code",
      "source": [
        "d_model=512\n",
        "query=torch.rand(12, 512)\n",
        "key=torch.rand(12, 512)\n",
        "value=torch.rand(12, 512)\n",
        "h=8\n",
        "d_k=64\n",
        "nbatches = 12\n",
        "# nn.Linear(d_model, d_model)(query).shape\n",
        "# nn.Linear(d_model, d_model)(query).view(nbatches, -1, h, d_k).transpose(1,2)"
      ],
      "metadata": {
        "id": "HGZjTZT-d12-"
      },
      "execution_count": 60,
      "outputs": []
    },
    {
      "cell_type": "markdown",
      "metadata": {
        "id": "IHfxLJKz99sx"
      },
      "source": [
        "### (아래의 **Q3을 먼저 풀고 돌아오세요**) Q4.  query, key, value가 모두 (12, 8, 1, 64) shape의 tensor라고 가정할 때 , `score`, `p_attn`, `attention`의 shape을 각각 구하라\n",
        "\n",
        "- score : torch.Size([12, 12])\n",
        "- p_attn : torch.Size([12, 12]) \n",
        "- attention : torch.Size([12, 512])"
      ]
    },
    {
      "cell_type": "code",
      "source": [
        "scores = torch.matmul(query, key.transpose(-2, -1)) \\\n",
        "             / math.sqrt(d_k)"
      ],
      "metadata": {
        "id": "DGSCyJzQhX5Y"
      },
      "execution_count": 61,
      "outputs": []
    },
    {
      "cell_type": "code",
      "source": [
        "scores.shape"
      ],
      "metadata": {
        "colab": {
          "base_uri": "https://localhost:8080/"
        },
        "id": "l4XM0e1NiF2-",
        "outputId": "e01802fa-f477-489f-f63a-b3acfd1830c3"
      },
      "execution_count": 62,
      "outputs": [
        {
          "output_type": "execute_result",
          "data": {
            "text/plain": [
              "torch.Size([12, 12])"
            ]
          },
          "metadata": {},
          "execution_count": 62
        }
      ]
    },
    {
      "cell_type": "code",
      "source": [
        "p_attn = F.softmax(scores, dim = -1)"
      ],
      "metadata": {
        "id": "ES_AXbKJiOu9"
      },
      "execution_count": 63,
      "outputs": []
    },
    {
      "cell_type": "code",
      "source": [
        "p_attn.shape"
      ],
      "metadata": {
        "colab": {
          "base_uri": "https://localhost:8080/"
        },
        "id": "YfYRK2yFiQg7",
        "outputId": "0ac7d434-3d98-4959-8627-09db542ff120"
      },
      "execution_count": 64,
      "outputs": [
        {
          "output_type": "execute_result",
          "data": {
            "text/plain": [
              "torch.Size([12, 12])"
            ]
          },
          "metadata": {},
          "execution_count": 64
        }
      ]
    },
    {
      "cell_type": "code",
      "source": [
        "torch.matmul(p_attn, value).shape"
      ],
      "metadata": {
        "colab": {
          "base_uri": "https://localhost:8080/"
        },
        "id": "uf4SOv2Lidz9",
        "outputId": "2b2469f2-f4ac-483e-c064-33b1331c8683"
      },
      "execution_count": 65,
      "outputs": [
        {
          "output_type": "execute_result",
          "data": {
            "text/plain": [
              "torch.Size([12, 512])"
            ]
          },
          "metadata": {},
          "execution_count": 65
        }
      ]
    },
    {
      "cell_type": "markdown",
      "metadata": {
        "id": "wYnffQE799sy"
      },
      "source": [
        "- `MultiHeadedAttention`\n",
        "\n",
        "<img src=\"https://github.com/ChristinaROK/PreOnboarding_AI_assets/blob/36a670a7b6233d5218a495150beb337a899ecb70/week3/week3_3_multihead.png?raw=true\" width=\"300\" align=\"center\"/>  "
      ]
    },
    {
      "cell_type": "code",
      "execution_count": 66,
      "metadata": {
        "id": "uhFKlJ2b99sz"
      },
      "outputs": [],
      "source": [
        "class MultiHeadedAttention(nn.Module):\n",
        "    def __init__(self, h, d_model, dropout=0.1):\n",
        "        \"Take in model size and number of heads.\"\n",
        "        super(MultiHeadedAttention, self).__init__()\n",
        "        assert d_model % h == 0\n",
        "        # We assume d_v always equals d_k\n",
        "        self.d_k = d_model // h\n",
        "        self.h = h\n",
        "        self.linears = clones(nn.Linear(d_model, d_model), 4)\n",
        "        self.attn = None\n",
        "        self.dropout = nn.Dropout(p=dropout)\n",
        "    \n",
        "    \n",
        "    def forward(self, query, key, value, mask=None):\n",
        "        \"Implements Figure 2\"\n",
        "        if mask is not None:\n",
        "            # Same mask applied to all h heads.\n",
        "            mask = mask.unsqueeze(1)\n",
        "        nbatches = query.size(0)\n",
        "        \n",
        "        # 1) Do all the linear projections in batch from d_model => h x d_k \n",
        "        query, key, value = \\\n",
        "            [l(x).view(nbatches, -1, self.h, self.d_k).transpose(1, 2)\n",
        "             for l, x in zip(self.linears, (query, key, value))]\n",
        "        \n",
        "        # 2) Apply attention on all the projected vectors in batch. \n",
        "        x, self.attn = attention(query, key, value, mask=mask, \n",
        "                                 dropout=self.dropout)\n",
        "        \n",
        "        # 3) \"Concat\" using a view and apply a final linear. \n",
        "        x = x.transpose(1, 2).contiguous() \\\n",
        "             .view(nbatches, -1, self.h * self.d_k)\n",
        "        return self.linears[-1](x)\n",
        "            "
      ]
    },
    {
      "cell_type": "code",
      "source": [
        "d_model=512\n",
        "query=torch.rand(12, 512)\n",
        "h=8\n",
        "d_k=64\n",
        "nbatches = 12\n",
        "nn.Linear(d_model, d_model)(query).shape\n",
        "nn.Linear(d_model, d_model)(query).view(nbatches, -1, h, d_k).transpose(1,2)"
      ],
      "metadata": {
        "id": "gFN5nXRSGJgk",
        "colab": {
          "base_uri": "https://localhost:8080/"
        },
        "outputId": "07eb2155-41f8-4e39-b668-eafb55b8b1eb"
      },
      "execution_count": 67,
      "outputs": [
        {
          "output_type": "execute_result",
          "data": {
            "text/plain": [
              "tensor([[[[-0.0772,  0.4370,  0.1815,  ..., -0.0435,  0.4638,  0.1202]],\n",
              "\n",
              "         [[ 0.2947,  0.1933,  0.2940,  ...,  0.6749,  0.3639,  0.0731]],\n",
              "\n",
              "         [[ 0.4104,  0.2074,  0.0528,  ...,  0.1686, -0.0949,  0.1573]],\n",
              "\n",
              "         ...,\n",
              "\n",
              "         [[-0.5403,  0.6743, -0.2569,  ..., -0.4948,  0.4586, -0.0643]],\n",
              "\n",
              "         [[-0.1498,  0.4231,  0.2321,  ...,  0.4684,  0.4625,  0.5186]],\n",
              "\n",
              "         [[-0.0974, -0.0093, -0.1164,  ...,  0.0819,  0.0445,  0.1502]]],\n",
              "\n",
              "\n",
              "        [[[-0.0769, -0.0374,  0.0550,  ..., -0.0241,  0.1990,  0.0949]],\n",
              "\n",
              "         [[ 0.0586,  0.5107, -0.1128,  ...,  0.4801,  0.4818, -0.0728]],\n",
              "\n",
              "         [[ 0.4029,  0.6877,  0.3173,  ...,  0.1152, -0.2197, -0.1616]],\n",
              "\n",
              "         ...,\n",
              "\n",
              "         [[-0.2758,  1.0319, -0.0048,  ..., -0.2682,  0.3364,  0.1629]],\n",
              "\n",
              "         [[-0.6597,  0.2109,  0.0428,  ...,  0.3628,  0.5745,  0.7036]],\n",
              "\n",
              "         [[-0.1835, -0.1903, -0.0569,  ...,  0.0164, -0.5130,  0.0203]]],\n",
              "\n",
              "\n",
              "        [[[-0.0914, -0.1759,  0.1950,  ..., -0.1786,  0.0567,  0.2405]],\n",
              "\n",
              "         [[ 0.2020,  0.3125,  0.1777,  ...,  0.4939,  0.2608, -0.0846]],\n",
              "\n",
              "         [[ 0.4821,  0.5202, -0.0877,  ...,  0.3086,  0.0354, -0.1384]],\n",
              "\n",
              "         ...,\n",
              "\n",
              "         [[-0.5438,  0.4827, -0.2100,  ..., -0.5441,  0.5367, -0.3556]],\n",
              "\n",
              "         [[-0.4419,  0.4303,  0.2168,  ...,  0.3145,  0.2069,  0.4504]],\n",
              "\n",
              "         [[-0.1467,  0.2744, -0.0924,  ...,  0.0327, -0.2565, -0.0651]]],\n",
              "\n",
              "\n",
              "        ...,\n",
              "\n",
              "\n",
              "        [[[-0.2311, -0.1202, -0.3692,  ..., -0.1864,  0.2792,  0.2710]],\n",
              "\n",
              "         [[-0.0410,  0.4630, -0.0568,  ...,  0.5608,  0.2568,  0.2232]],\n",
              "\n",
              "         [[ 0.3864,  0.3285, -0.1086,  ...,  0.3353, -0.1523, -0.3754]],\n",
              "\n",
              "         ...,\n",
              "\n",
              "         [[-0.2526,  0.9369, -0.0701,  ..., -0.2951,  0.1611,  0.3790]],\n",
              "\n",
              "         [[-0.2323,  0.2749,  0.0914,  ...,  0.1428,  0.2178,  0.3437]],\n",
              "\n",
              "         [[-0.0528,  0.1386,  0.2630,  ...,  0.1487,  0.0082,  0.0598]]],\n",
              "\n",
              "\n",
              "        [[[-0.1678,  0.1101, -0.1719,  ..., -0.1839,  0.3429,  0.3773]],\n",
              "\n",
              "         [[ 0.2515,  0.2188, -0.2238,  ...,  0.5374, -0.0953, -0.0569]],\n",
              "\n",
              "         [[ 0.1449,  0.1818,  0.0019,  ...,  0.2389,  0.2600,  0.0505]],\n",
              "\n",
              "         ...,\n",
              "\n",
              "         [[-0.0228,  0.8644, -0.1247,  ..., -0.4350,  0.1600,  0.0663]],\n",
              "\n",
              "         [[-0.2256,  0.3575,  0.0307,  ..., -0.0108,  0.3021,  0.2969]],\n",
              "\n",
              "         [[ 0.2418,  0.1183,  0.0532,  ...,  0.0297, -0.2885, -0.3629]]],\n",
              "\n",
              "\n",
              "        [[[-0.3959,  0.1317, -0.1554,  ..., -0.1455,  0.3358,  0.4794]],\n",
              "\n",
              "         [[ 0.2769,  0.2871, -0.0214,  ...,  0.4986,  0.1365,  0.4660]],\n",
              "\n",
              "         [[ 0.3807,  0.4319,  0.1106,  ...,  0.0273, -0.1500, -0.1572]],\n",
              "\n",
              "         ...,\n",
              "\n",
              "         [[-0.2083,  0.8186, -0.0752,  ..., -0.4380,  0.2616, -0.2012]],\n",
              "\n",
              "         [[-0.0643,  0.4564,  0.0486,  ..., -0.1272,  0.5122,  0.7256]],\n",
              "\n",
              "         [[-0.0635,  0.1175, -0.1205,  ...,  0.1411, -0.4193, -0.3884]]]],\n",
              "       grad_fn=<TransposeBackward0>)"
            ]
          },
          "metadata": {},
          "execution_count": 67
        }
      ]
    },
    {
      "cell_type": "code",
      "source": [
        ""
      ],
      "metadata": {
        "id": "iHY7hZ5AJTXn"
      },
      "execution_count": 67,
      "outputs": []
    },
    {
      "cell_type": "code",
      "source": [
        ""
      ],
      "metadata": {
        "id": "kZG5ldVKUBub"
      },
      "execution_count": 67,
      "outputs": []
    },
    {
      "cell_type": "code",
      "source": [
        "a=nn.Linear(d_model, d_model)(query).view(nbatches, -1, h, d_k)"
      ],
      "metadata": {
        "id": "Fey7X8TqYkGx"
      },
      "execution_count": 68,
      "outputs": []
    },
    {
      "cell_type": "code",
      "source": [
        "len(nn.Linear(d_model, d_model)(query).view(nbatches, -1, h, d_k))"
      ],
      "metadata": {
        "colab": {
          "base_uri": "https://localhost:8080/"
        },
        "id": "dymOuPEGGJau",
        "outputId": "761e066b-02fe-4b72-9d09-3a6413466cb0"
      },
      "execution_count": 69,
      "outputs": [
        {
          "output_type": "execute_result",
          "data": {
            "text/plain": [
              "12"
            ]
          },
          "metadata": {},
          "execution_count": 69
        }
      ]
    },
    {
      "cell_type": "code",
      "source": [
        "6144/(h*d_k)"
      ],
      "metadata": {
        "colab": {
          "base_uri": "https://localhost:8080/"
        },
        "id": "XRiT_dG2XM1w",
        "outputId": "9674c0b8-8bb4-437e-aad8-5fd0e4afec35"
      },
      "execution_count": 70,
      "outputs": [
        {
          "output_type": "execute_result",
          "data": {
            "text/plain": [
              "12.0"
            ]
          },
          "metadata": {},
          "execution_count": 70
        }
      ]
    },
    {
      "cell_type": "markdown",
      "metadata": {
        "id": "M46Ensa499s0"
      },
      "source": [
        "### Q3.  query, key, value가 모두 (12, 512) shape의 matrix이고, h 값이 8 이라고 가정할 때, 아래 값의 shape을 각각 구하라\n",
        "\n",
        "- `d_k` (d_k = d_model // h) : 64\n",
        "- `nn.Linear(d_model, d_model)(query)` : (12,512)\n",
        "- `nn.Linear(d_model, d_model)(query).view(nbatches, -1, h, d_k)` : torch.Size([12, 1, 8, 64])\n",
        "- `nn.Linear(d_model, d_model)(query).view(nbatches, -1, h, d_k).transpose(1,2):` : torch.Size([12, 8, 1, 64])"
      ]
    },
    {
      "cell_type": "markdown",
      "metadata": {
        "id": "twZoeFr799s1"
      },
      "source": [
        "- `PositionwiseFeedForward`\n",
        "\n",
        "<img src=\"https://github.com/ChristinaROK/PreOnboarding_AI_assets/blob/36a670a7b6233d5218a495150beb337a899ecb70/week3/week3_3_pwff.png?raw=true\" width=\"300\" align=\"center\"/>  "
      ]
    },
    {
      "cell_type": "code",
      "execution_count": 71,
      "metadata": {
        "id": "nZzpucvQ99s2"
      },
      "outputs": [],
      "source": [
        "class PositionwiseFeedForward(nn.Module):\n",
        "    \"Implements FFN equation.\"\n",
        "    def __init__(self, d_model, d_ff, dropout=0.1):\n",
        "        super(PositionwiseFeedForward, self).__init__()\n",
        "        self.w_1 = nn.Linear(d_model, d_ff)\n",
        "        self.w_2 = nn.Linear(d_ff, d_model)\n",
        "        self.dropout = nn.Dropout(dropout)\n",
        "\n",
        "    def forward(self, x):\n",
        "        return self.w_2(self.dropout(F.relu(self.w_1(x))))"
      ]
    },
    {
      "cell_type": "markdown",
      "metadata": {
        "id": "TqjsUsbu99s3"
      },
      "source": [
        "### Input Embedding & Encoding\n",
        "- `Embeddings`\n",
        "    - [pytorch official docs](https://pytorch.org/docs/stable/generated/torch.nn.Embedding.html)"
      ]
    },
    {
      "cell_type": "code",
      "execution_count": 72,
      "metadata": {
        "id": "FBVJFurO99s3"
      },
      "outputs": [],
      "source": [
        "class Embeddings(nn.Module):\n",
        "    def __init__(self, d_model, vocab):\n",
        "        super(Embeddings, self).__init__()\n",
        "        self.lut = nn.Embedding(vocab, d_model)\n",
        "        self.d_model = d_model\n",
        "\n",
        "    def forward(self, x):\n",
        "        return self.lut(x) * math.sqrt(self.d_model)"
      ]
    },
    {
      "cell_type": "markdown",
      "metadata": {
        "id": "Po31qs_A99s5"
      },
      "source": [
        "- `PositionalEncoding`\n",
        "\n",
        "<img src=\"https://github.com/ChristinaROK/PreOnboarding_AI_assets/blob/36a670a7b6233d5218a495150beb337a899ecb70/week3/week3_3_pe.png?raw=true\" width=\"500\" align=\"center\"/>  \n",
        "\n",
        "- `position` 변수 설명\n",
        "    - 모든 position (=최대 토큰 개수)의 값을 갖고 있는 matrix\n",
        "- `div_term` 변수 설명\n",
        "\n",
        "<img src=\"https://github.com/ChristinaROK/PreOnboarding_AI_assets/blob/36a670a7b6233d5218a495150beb337a899ecb70/week3/week3_3_div.png?raw=true\" width=\"500\" align=\"center\"/>  \n",
        "- `Embedding` + `Encoding` 도식화 \n",
        "\n",
        "<img src=\"https://github.com/ChristinaROK/PreOnboarding_AI_assets/blob/36a670a7b6233d5218a495150beb337a899ecb70/week3/week3_3_emb_enc.png?raw=true\" width=\"400\" align=\"center\"/>  \n"
      ]
    },
    {
      "cell_type": "code",
      "execution_count": 73,
      "metadata": {
        "id": "RP-_an3x99s5"
      },
      "outputs": [],
      "source": [
        "class PositionalEncoding(nn.Module):\n",
        "    \"Implement the PE function.\"\n",
        "    def __init__(self, d_model, dropout, max_len=5000):\n",
        "        super(PositionalEncoding, self).__init__()\n",
        "        self.dropout = nn.Dropout(p=dropout)\n",
        "        \n",
        "        # Compute the positional encodings once in log space.\n",
        "        pe = torch.zeros(max_len, d_model)\n",
        "        position = torch.arange(0, max_len).unsqueeze(1)\n",
        "        div_term = torch.exp(torch.arange(0, d_model, 2) *\n",
        "                             -(math.log(10000.0) / d_model))\n",
        "        pe[:, 0::2] = torch.sin(position * div_term)\n",
        "        pe[:, 1::2] = torch.cos(position * div_term)\n",
        "        pe = pe.unsqueeze(0)\n",
        "        self.register_buffer('pe', pe)\n",
        "        \n",
        "    def forward(self, x):\n",
        "        x = x + Variable(self.pe[:, :x.size(1)], \n",
        "                         requires_grad=False)\n",
        "        return self.dropout(x)"
      ]
    },
    {
      "cell_type": "markdown",
      "metadata": {
        "id": "kNf13Gkm99s6"
      },
      "source": [
        "### Q4.  max_len이 512이고, d_model이 512라고 가정할 때, `position`과 `div_term`의 shape을 구하라\n",
        "\n",
        "- `position` : torch.Size([512, 1])\n",
        "- `div_term` : torch.Size([256])\n",
        "- `position * div_term` : torch.Size([512, 256])"
      ]
    },
    {
      "cell_type": "markdown",
      "metadata": {
        "id": "Rri-daP399s7"
      },
      "source": [
        "### Advanced"
      ]
    },
    {
      "cell_type": "markdown",
      "metadata": {
        "id": "N3ZixTN199s8"
      },
      "source": [
        "### Finally Build Model\n",
        "- Xavier Initialization\n",
        "    - [한국어 자료](https://huangdi.tistory.com/8)\n",
        "    - [pytorch official docs](https://pytorch.org/docs/stable/nn.init.html#torch.nn.init.xavier_uniform_)"
      ]
    },
    {
      "cell_type": "code",
      "execution_count": 78,
      "metadata": {
        "id": "kPdGsCiC99s8"
      },
      "outputs": [],
      "source": [
        "def make_model(src_vocab, tgt_vocab, N=6, d_model=512, d_ff=2048, h=8, dropout=0.1):\n",
        "    \"Helper: Construct a model from hyperparameters.\"\n",
        "    c = copy.deepcopy\n",
        "    attn = MultiHeadedAttention(h, d_model)\n",
        "    ff = PositionwiseFeedForward(d_model, d_ff, dropout)\n",
        "    position = PositionalEncoding(d_model, dropout)\n",
        "    model = EncoderDecoder(\n",
        "        Encoder(EncoderLayer(d_model, c(attn), c(ff), dropout), N),\n",
        "        Decoder(DecoderLayer(d_model, c(attn), c(attn), \n",
        "                             c(ff), dropout), N),\n",
        "        nn.Sequential(Embeddings(d_model, src_vocab), c(position)),\n",
        "        nn.Sequential(Embeddings(d_model, tgt_vocab), c(position)),\n",
        "        Generator(d_model, tgt_vocab))\n",
        "    \n",
        "    # This was important from their code. \n",
        "    # Initialize parameters with Glorot / fan_avg.\n",
        "    for p in model.parameters():\n",
        "        if p.dim() > 1:\n",
        "            nn.init.xavier_uniform(p)\n",
        "    return model     "
      ]
    },
    {
      "cell_type": "code",
      "execution_count": 79,
      "metadata": {
        "id": "eIDN1DSd99s-",
        "outputId": "34c8bf26-9dff-4061-8f1d-43f00e1c8bd4",
        "colab": {
          "base_uri": "https://localhost:8080/"
        }
      },
      "outputs": [
        {
          "output_type": "stream",
          "name": "stderr",
          "text": [
            "/usr/local/lib/python3.7/dist-packages/ipykernel_launcher.py:19: UserWarning: nn.init.xavier_uniform is now deprecated in favor of nn.init.xavier_uniform_.\n"
          ]
        }
      ],
      "source": [
        "model = make_model(10,10)"
      ]
    },
    {
      "cell_type": "markdown",
      "metadata": {
        "id": "ljRK80Lo99s_"
      },
      "source": [
        "### Q5. 위 코드로 만든 모델의 모든 파라미터의 이름과 크기 (shape) 을 출력하라"
      ]
    },
    {
      "cell_type": "code",
      "execution_count": 77,
      "metadata": {
        "id": "BHubCUOh99tA"
      },
      "outputs": [],
      "source": [
        "# 구현\n",
        "model\n",
        "pass"
      ]
    },
    {
      "cell_type": "code",
      "source": [
        "model.parameters()"
      ],
      "metadata": {
        "colab": {
          "base_uri": "https://localhost:8080/"
        },
        "id": "E9jkG1w1Hn2X",
        "outputId": "f3460e91-7bc6-4b78-d96e-b21473deb62f"
      },
      "execution_count": 112,
      "outputs": [
        {
          "output_type": "execute_result",
          "data": {
            "text/plain": [
              "<generator object Module.parameters at 0x7fbbe409eb50>"
            ]
          },
          "metadata": {},
          "execution_count": 112
        }
      ]
    },
    {
      "cell_type": "code",
      "source": [
        "for p in model.parameters():\n",
        "    print(p.shape)"
      ],
      "metadata": {
        "colab": {
          "base_uri": "https://localhost:8080/"
        },
        "id": "t9rAnuqvHoip",
        "outputId": "d424b1aa-f67a-41cc-ed77-10e263bb614b"
      },
      "execution_count": 124,
      "outputs": [
        {
          "output_type": "stream",
          "name": "stdout",
          "text": [
            "torch.Size([512, 512])\n",
            "torch.Size([512])\n",
            "torch.Size([512, 512])\n",
            "torch.Size([512])\n",
            "torch.Size([512, 512])\n",
            "torch.Size([512])\n",
            "torch.Size([512, 512])\n",
            "torch.Size([512])\n",
            "torch.Size([2048, 512])\n",
            "torch.Size([2048])\n",
            "torch.Size([512, 2048])\n",
            "torch.Size([512])\n",
            "torch.Size([512])\n",
            "torch.Size([512])\n",
            "torch.Size([512])\n",
            "torch.Size([512])\n",
            "torch.Size([512, 512])\n",
            "torch.Size([512])\n",
            "torch.Size([512, 512])\n",
            "torch.Size([512])\n",
            "torch.Size([512, 512])\n",
            "torch.Size([512])\n",
            "torch.Size([512, 512])\n",
            "torch.Size([512])\n",
            "torch.Size([2048, 512])\n",
            "torch.Size([2048])\n",
            "torch.Size([512, 2048])\n",
            "torch.Size([512])\n",
            "torch.Size([512])\n",
            "torch.Size([512])\n",
            "torch.Size([512])\n",
            "torch.Size([512])\n",
            "torch.Size([512, 512])\n",
            "torch.Size([512])\n",
            "torch.Size([512, 512])\n",
            "torch.Size([512])\n",
            "torch.Size([512, 512])\n",
            "torch.Size([512])\n",
            "torch.Size([512, 512])\n",
            "torch.Size([512])\n",
            "torch.Size([2048, 512])\n",
            "torch.Size([2048])\n",
            "torch.Size([512, 2048])\n",
            "torch.Size([512])\n",
            "torch.Size([512])\n",
            "torch.Size([512])\n",
            "torch.Size([512])\n",
            "torch.Size([512])\n",
            "torch.Size([512, 512])\n",
            "torch.Size([512])\n",
            "torch.Size([512, 512])\n",
            "torch.Size([512])\n",
            "torch.Size([512, 512])\n",
            "torch.Size([512])\n",
            "torch.Size([512, 512])\n",
            "torch.Size([512])\n",
            "torch.Size([2048, 512])\n",
            "torch.Size([2048])\n",
            "torch.Size([512, 2048])\n",
            "torch.Size([512])\n",
            "torch.Size([512])\n",
            "torch.Size([512])\n",
            "torch.Size([512])\n",
            "torch.Size([512])\n",
            "torch.Size([512, 512])\n",
            "torch.Size([512])\n",
            "torch.Size([512, 512])\n",
            "torch.Size([512])\n",
            "torch.Size([512, 512])\n",
            "torch.Size([512])\n",
            "torch.Size([512, 512])\n",
            "torch.Size([512])\n",
            "torch.Size([2048, 512])\n",
            "torch.Size([2048])\n",
            "torch.Size([512, 2048])\n",
            "torch.Size([512])\n",
            "torch.Size([512])\n",
            "torch.Size([512])\n",
            "torch.Size([512])\n",
            "torch.Size([512])\n",
            "torch.Size([512, 512])\n",
            "torch.Size([512])\n",
            "torch.Size([512, 512])\n",
            "torch.Size([512])\n",
            "torch.Size([512, 512])\n",
            "torch.Size([512])\n",
            "torch.Size([512, 512])\n",
            "torch.Size([512])\n",
            "torch.Size([2048, 512])\n",
            "torch.Size([2048])\n",
            "torch.Size([512, 2048])\n",
            "torch.Size([512])\n",
            "torch.Size([512])\n",
            "torch.Size([512])\n",
            "torch.Size([512])\n",
            "torch.Size([512])\n",
            "torch.Size([512])\n",
            "torch.Size([512])\n",
            "torch.Size([512, 512])\n",
            "torch.Size([512])\n",
            "torch.Size([512, 512])\n",
            "torch.Size([512])\n",
            "torch.Size([512, 512])\n",
            "torch.Size([512])\n",
            "torch.Size([512, 512])\n",
            "torch.Size([512])\n",
            "torch.Size([512, 512])\n",
            "torch.Size([512])\n",
            "torch.Size([512, 512])\n",
            "torch.Size([512])\n",
            "torch.Size([512, 512])\n",
            "torch.Size([512])\n",
            "torch.Size([512, 512])\n",
            "torch.Size([512])\n",
            "torch.Size([2048, 512])\n",
            "torch.Size([2048])\n",
            "torch.Size([512, 2048])\n",
            "torch.Size([512])\n",
            "torch.Size([512])\n",
            "torch.Size([512])\n",
            "torch.Size([512])\n",
            "torch.Size([512])\n",
            "torch.Size([512])\n",
            "torch.Size([512])\n",
            "torch.Size([512, 512])\n",
            "torch.Size([512])\n",
            "torch.Size([512, 512])\n",
            "torch.Size([512])\n",
            "torch.Size([512, 512])\n",
            "torch.Size([512])\n",
            "torch.Size([512, 512])\n",
            "torch.Size([512])\n",
            "torch.Size([512, 512])\n",
            "torch.Size([512])\n",
            "torch.Size([512, 512])\n",
            "torch.Size([512])\n",
            "torch.Size([512, 512])\n",
            "torch.Size([512])\n",
            "torch.Size([512, 512])\n",
            "torch.Size([512])\n",
            "torch.Size([2048, 512])\n",
            "torch.Size([2048])\n",
            "torch.Size([512, 2048])\n",
            "torch.Size([512])\n",
            "torch.Size([512])\n",
            "torch.Size([512])\n",
            "torch.Size([512])\n",
            "torch.Size([512])\n",
            "torch.Size([512])\n",
            "torch.Size([512])\n",
            "torch.Size([512, 512])\n",
            "torch.Size([512])\n",
            "torch.Size([512, 512])\n",
            "torch.Size([512])\n",
            "torch.Size([512, 512])\n",
            "torch.Size([512])\n",
            "torch.Size([512, 512])\n",
            "torch.Size([512])\n",
            "torch.Size([512, 512])\n",
            "torch.Size([512])\n",
            "torch.Size([512, 512])\n",
            "torch.Size([512])\n",
            "torch.Size([512, 512])\n",
            "torch.Size([512])\n",
            "torch.Size([512, 512])\n",
            "torch.Size([512])\n",
            "torch.Size([2048, 512])\n",
            "torch.Size([2048])\n",
            "torch.Size([512, 2048])\n",
            "torch.Size([512])\n",
            "torch.Size([512])\n",
            "torch.Size([512])\n",
            "torch.Size([512])\n",
            "torch.Size([512])\n",
            "torch.Size([512])\n",
            "torch.Size([512])\n",
            "torch.Size([512, 512])\n",
            "torch.Size([512])\n",
            "torch.Size([512, 512])\n",
            "torch.Size([512])\n",
            "torch.Size([512, 512])\n",
            "torch.Size([512])\n",
            "torch.Size([512, 512])\n",
            "torch.Size([512])\n",
            "torch.Size([512, 512])\n",
            "torch.Size([512])\n",
            "torch.Size([512, 512])\n",
            "torch.Size([512])\n",
            "torch.Size([512, 512])\n",
            "torch.Size([512])\n",
            "torch.Size([512, 512])\n",
            "torch.Size([512])\n",
            "torch.Size([2048, 512])\n",
            "torch.Size([2048])\n",
            "torch.Size([512, 2048])\n",
            "torch.Size([512])\n",
            "torch.Size([512])\n",
            "torch.Size([512])\n",
            "torch.Size([512])\n",
            "torch.Size([512])\n",
            "torch.Size([512])\n",
            "torch.Size([512])\n",
            "torch.Size([512, 512])\n",
            "torch.Size([512])\n",
            "torch.Size([512, 512])\n",
            "torch.Size([512])\n",
            "torch.Size([512, 512])\n",
            "torch.Size([512])\n",
            "torch.Size([512, 512])\n",
            "torch.Size([512])\n",
            "torch.Size([512, 512])\n",
            "torch.Size([512])\n",
            "torch.Size([512, 512])\n",
            "torch.Size([512])\n",
            "torch.Size([512, 512])\n",
            "torch.Size([512])\n",
            "torch.Size([512, 512])\n",
            "torch.Size([512])\n",
            "torch.Size([2048, 512])\n",
            "torch.Size([2048])\n",
            "torch.Size([512, 2048])\n",
            "torch.Size([512])\n",
            "torch.Size([512])\n",
            "torch.Size([512])\n",
            "torch.Size([512])\n",
            "torch.Size([512])\n",
            "torch.Size([512])\n",
            "torch.Size([512])\n",
            "torch.Size([512, 512])\n",
            "torch.Size([512])\n",
            "torch.Size([512, 512])\n",
            "torch.Size([512])\n",
            "torch.Size([512, 512])\n",
            "torch.Size([512])\n",
            "torch.Size([512, 512])\n",
            "torch.Size([512])\n",
            "torch.Size([512, 512])\n",
            "torch.Size([512])\n",
            "torch.Size([512, 512])\n",
            "torch.Size([512])\n",
            "torch.Size([512, 512])\n",
            "torch.Size([512])\n",
            "torch.Size([512, 512])\n",
            "torch.Size([512])\n",
            "torch.Size([2048, 512])\n",
            "torch.Size([2048])\n",
            "torch.Size([512, 2048])\n",
            "torch.Size([512])\n",
            "torch.Size([512])\n",
            "torch.Size([512])\n",
            "torch.Size([512])\n",
            "torch.Size([512])\n",
            "torch.Size([512])\n",
            "torch.Size([512])\n",
            "torch.Size([512])\n",
            "torch.Size([512])\n",
            "torch.Size([10, 512])\n",
            "torch.Size([10, 512])\n",
            "torch.Size([10, 512])\n",
            "torch.Size([10])\n"
          ]
        }
      ]
    },
    {
      "cell_type": "code",
      "source": [
        ""
      ],
      "metadata": {
        "id": "7hcbQ-ggRHVB"
      },
      "execution_count": null,
      "outputs": []
    }
  ],
  "metadata": {
    "accelerator": "GPU",
    "colab": {
      "collapsed_sections": [],
      "name": "4팀_황찬희_assginment.ipynb의 사본",
      "provenance": []
    },
    "kernelspec": {
      "display_name": "torch",
      "language": "python",
      "name": "torch"
    },
    "language_info": {
      "codemirror_mode": {
        "name": "ipython",
        "version": 3
      },
      "file_extension": ".py",
      "mimetype": "text/x-python",
      "name": "python",
      "nbconvert_exporter": "python",
      "pygments_lexer": "ipython3",
      "version": "3.8.11"
    }
  },
  "nbformat": 4,
  "nbformat_minor": 0
}